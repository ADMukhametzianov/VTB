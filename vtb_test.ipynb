{
  "cells": [
    {
      "cell_type": "markdown",
      "metadata": {
        "id": "y-2n95E03dNK"
      },
      "source": [
        "# Тестовое задание"
      ]
    },
    {
      "cell_type": "markdown",
      "metadata": {
        "id": "2aJWBiih3dNM"
      },
      "source": [
        "### Описание данных"
      ]
    },
    {
      "cell_type": "markdown",
      "metadata": {
        "id": "EZO6Jegi3dNM"
      },
      "source": [
        "В приложении к заданию есть файл database.db. Он представляет собой файл БД на фреймворке sqlite3. Синтаксис SQL, используемый в данной БД почти не отличается от ORACLE DB (более подробно можно почитать тут: https://unetway.com/tutorial/sqlite-syntax).\n",
        "Запросы к базе можно сохранять сразу в pandas.Dataframe, используя следующий код:"
      ]
    },
    {
      "cell_type": "code",
      "source": [
        "import pandas as pd\n",
        "import sqlite3 as sql\n",
        "\n",
        "# Загрузка файла из GitHub\n",
        "!wget https://raw.githubusercontent.com/ADMukhametzianov/VTB/main/database.db"
      ],
      "metadata": {
        "id": "qf-1anmr5Rug"
      },
      "execution_count": null,
      "outputs": []
    },
    {
      "cell_type": "code",
      "execution_count": 27,
      "metadata": {
        "id": "FWICoF4y3dNM",
        "outputId": "a0862573-101f-4e4c-b3f3-879e222ee1ce",
        "colab": {
          "base_uri": "https://localhost:8080/",
          "height": 143
        }
      },
      "outputs": [
        {
          "output_type": "execute_result",
          "data": {
            "text/plain": [
              "    client_id   segment period  product         pl\n",
              "0  yr3sFJNQex  Массовый    p_1      РКО   6.551622\n",
              "1  yr3sFJNQex  Массовый    p_1  Депозит  36.038988\n",
              "2  yr3sFJNQex  Массовый    p_2      РКО  17.283574"
            ],
            "text/html": [
              "\n",
              "  <div id=\"df-f1e22f93-7610-4715-9261-b33a690e3d1c\" class=\"colab-df-container\">\n",
              "    <div>\n",
              "<style scoped>\n",
              "    .dataframe tbody tr th:only-of-type {\n",
              "        vertical-align: middle;\n",
              "    }\n",
              "\n",
              "    .dataframe tbody tr th {\n",
              "        vertical-align: top;\n",
              "    }\n",
              "\n",
              "    .dataframe thead th {\n",
              "        text-align: right;\n",
              "    }\n",
              "</style>\n",
              "<table border=\"1\" class=\"dataframe\">\n",
              "  <thead>\n",
              "    <tr style=\"text-align: right;\">\n",
              "      <th></th>\n",
              "      <th>client_id</th>\n",
              "      <th>segment</th>\n",
              "      <th>period</th>\n",
              "      <th>product</th>\n",
              "      <th>pl</th>\n",
              "    </tr>\n",
              "  </thead>\n",
              "  <tbody>\n",
              "    <tr>\n",
              "      <th>0</th>\n",
              "      <td>yr3sFJNQex</td>\n",
              "      <td>Массовый</td>\n",
              "      <td>p_1</td>\n",
              "      <td>РКО</td>\n",
              "      <td>6.551622</td>\n",
              "    </tr>\n",
              "    <tr>\n",
              "      <th>1</th>\n",
              "      <td>yr3sFJNQex</td>\n",
              "      <td>Массовый</td>\n",
              "      <td>p_1</td>\n",
              "      <td>Депозит</td>\n",
              "      <td>36.038988</td>\n",
              "    </tr>\n",
              "    <tr>\n",
              "      <th>2</th>\n",
              "      <td>yr3sFJNQex</td>\n",
              "      <td>Массовый</td>\n",
              "      <td>p_2</td>\n",
              "      <td>РКО</td>\n",
              "      <td>17.283574</td>\n",
              "    </tr>\n",
              "  </tbody>\n",
              "</table>\n",
              "</div>\n",
              "    <div class=\"colab-df-buttons\">\n",
              "\n",
              "  <div class=\"colab-df-container\">\n",
              "    <button class=\"colab-df-convert\" onclick=\"convertToInteractive('df-f1e22f93-7610-4715-9261-b33a690e3d1c')\"\n",
              "            title=\"Convert this dataframe to an interactive table.\"\n",
              "            style=\"display:none;\">\n",
              "\n",
              "  <svg xmlns=\"http://www.w3.org/2000/svg\" height=\"24px\" viewBox=\"0 -960 960 960\">\n",
              "    <path d=\"M120-120v-720h720v720H120Zm60-500h600v-160H180v160Zm220 220h160v-160H400v160Zm0 220h160v-160H400v160ZM180-400h160v-160H180v160Zm440 0h160v-160H620v160ZM180-180h160v-160H180v160Zm440 0h160v-160H620v160Z\"/>\n",
              "  </svg>\n",
              "    </button>\n",
              "\n",
              "  <style>\n",
              "    .colab-df-container {\n",
              "      display:flex;\n",
              "      gap: 12px;\n",
              "    }\n",
              "\n",
              "    .colab-df-convert {\n",
              "      background-color: #E8F0FE;\n",
              "      border: none;\n",
              "      border-radius: 50%;\n",
              "      cursor: pointer;\n",
              "      display: none;\n",
              "      fill: #1967D2;\n",
              "      height: 32px;\n",
              "      padding: 0 0 0 0;\n",
              "      width: 32px;\n",
              "    }\n",
              "\n",
              "    .colab-df-convert:hover {\n",
              "      background-color: #E2EBFA;\n",
              "      box-shadow: 0px 1px 2px rgba(60, 64, 67, 0.3), 0px 1px 3px 1px rgba(60, 64, 67, 0.15);\n",
              "      fill: #174EA6;\n",
              "    }\n",
              "\n",
              "    .colab-df-buttons div {\n",
              "      margin-bottom: 4px;\n",
              "    }\n",
              "\n",
              "    [theme=dark] .colab-df-convert {\n",
              "      background-color: #3B4455;\n",
              "      fill: #D2E3FC;\n",
              "    }\n",
              "\n",
              "    [theme=dark] .colab-df-convert:hover {\n",
              "      background-color: #434B5C;\n",
              "      box-shadow: 0px 1px 3px 1px rgba(0, 0, 0, 0.15);\n",
              "      filter: drop-shadow(0px 1px 2px rgba(0, 0, 0, 0.3));\n",
              "      fill: #FFFFFF;\n",
              "    }\n",
              "  </style>\n",
              "\n",
              "    <script>\n",
              "      const buttonEl =\n",
              "        document.querySelector('#df-f1e22f93-7610-4715-9261-b33a690e3d1c button.colab-df-convert');\n",
              "      buttonEl.style.display =\n",
              "        google.colab.kernel.accessAllowed ? 'block' : 'none';\n",
              "\n",
              "      async function convertToInteractive(key) {\n",
              "        const element = document.querySelector('#df-f1e22f93-7610-4715-9261-b33a690e3d1c');\n",
              "        const dataTable =\n",
              "          await google.colab.kernel.invokeFunction('convertToInteractive',\n",
              "                                                    [key], {});\n",
              "        if (!dataTable) return;\n",
              "\n",
              "        const docLinkHtml = 'Like what you see? Visit the ' +\n",
              "          '<a target=\"_blank\" href=https://colab.research.google.com/notebooks/data_table.ipynb>data table notebook</a>'\n",
              "          + ' to learn more about interactive tables.';\n",
              "        element.innerHTML = '';\n",
              "        dataTable['output_type'] = 'display_data';\n",
              "        await google.colab.output.renderOutput(dataTable, element);\n",
              "        const docLink = document.createElement('div');\n",
              "        docLink.innerHTML = docLinkHtml;\n",
              "        element.appendChild(docLink);\n",
              "      }\n",
              "    </script>\n",
              "  </div>\n",
              "\n",
              "\n",
              "<div id=\"df-ca65e7b4-cfce-4921-b946-dbf73b419cdc\">\n",
              "  <button class=\"colab-df-quickchart\" onclick=\"quickchart('df-ca65e7b4-cfce-4921-b946-dbf73b419cdc')\"\n",
              "            title=\"Suggest charts\"\n",
              "            style=\"display:none;\">\n",
              "\n",
              "<svg xmlns=\"http://www.w3.org/2000/svg\" height=\"24px\"viewBox=\"0 0 24 24\"\n",
              "     width=\"24px\">\n",
              "    <g>\n",
              "        <path d=\"M19 3H5c-1.1 0-2 .9-2 2v14c0 1.1.9 2 2 2h14c1.1 0 2-.9 2-2V5c0-1.1-.9-2-2-2zM9 17H7v-7h2v7zm4 0h-2V7h2v10zm4 0h-2v-4h2v4z\"/>\n",
              "    </g>\n",
              "</svg>\n",
              "  </button>\n",
              "\n",
              "<style>\n",
              "  .colab-df-quickchart {\n",
              "      --bg-color: #E8F0FE;\n",
              "      --fill-color: #1967D2;\n",
              "      --hover-bg-color: #E2EBFA;\n",
              "      --hover-fill-color: #174EA6;\n",
              "      --disabled-fill-color: #AAA;\n",
              "      --disabled-bg-color: #DDD;\n",
              "  }\n",
              "\n",
              "  [theme=dark] .colab-df-quickchart {\n",
              "      --bg-color: #3B4455;\n",
              "      --fill-color: #D2E3FC;\n",
              "      --hover-bg-color: #434B5C;\n",
              "      --hover-fill-color: #FFFFFF;\n",
              "      --disabled-bg-color: #3B4455;\n",
              "      --disabled-fill-color: #666;\n",
              "  }\n",
              "\n",
              "  .colab-df-quickchart {\n",
              "    background-color: var(--bg-color);\n",
              "    border: none;\n",
              "    border-radius: 50%;\n",
              "    cursor: pointer;\n",
              "    display: none;\n",
              "    fill: var(--fill-color);\n",
              "    height: 32px;\n",
              "    padding: 0;\n",
              "    width: 32px;\n",
              "  }\n",
              "\n",
              "  .colab-df-quickchart:hover {\n",
              "    background-color: var(--hover-bg-color);\n",
              "    box-shadow: 0 1px 2px rgba(60, 64, 67, 0.3), 0 1px 3px 1px rgba(60, 64, 67, 0.15);\n",
              "    fill: var(--button-hover-fill-color);\n",
              "  }\n",
              "\n",
              "  .colab-df-quickchart-complete:disabled,\n",
              "  .colab-df-quickchart-complete:disabled:hover {\n",
              "    background-color: var(--disabled-bg-color);\n",
              "    fill: var(--disabled-fill-color);\n",
              "    box-shadow: none;\n",
              "  }\n",
              "\n",
              "  .colab-df-spinner {\n",
              "    border: 2px solid var(--fill-color);\n",
              "    border-color: transparent;\n",
              "    border-bottom-color: var(--fill-color);\n",
              "    animation:\n",
              "      spin 1s steps(1) infinite;\n",
              "  }\n",
              "\n",
              "  @keyframes spin {\n",
              "    0% {\n",
              "      border-color: transparent;\n",
              "      border-bottom-color: var(--fill-color);\n",
              "      border-left-color: var(--fill-color);\n",
              "    }\n",
              "    20% {\n",
              "      border-color: transparent;\n",
              "      border-left-color: var(--fill-color);\n",
              "      border-top-color: var(--fill-color);\n",
              "    }\n",
              "    30% {\n",
              "      border-color: transparent;\n",
              "      border-left-color: var(--fill-color);\n",
              "      border-top-color: var(--fill-color);\n",
              "      border-right-color: var(--fill-color);\n",
              "    }\n",
              "    40% {\n",
              "      border-color: transparent;\n",
              "      border-right-color: var(--fill-color);\n",
              "      border-top-color: var(--fill-color);\n",
              "    }\n",
              "    60% {\n",
              "      border-color: transparent;\n",
              "      border-right-color: var(--fill-color);\n",
              "    }\n",
              "    80% {\n",
              "      border-color: transparent;\n",
              "      border-right-color: var(--fill-color);\n",
              "      border-bottom-color: var(--fill-color);\n",
              "    }\n",
              "    90% {\n",
              "      border-color: transparent;\n",
              "      border-bottom-color: var(--fill-color);\n",
              "    }\n",
              "  }\n",
              "</style>\n",
              "\n",
              "  <script>\n",
              "    async function quickchart(key) {\n",
              "      const quickchartButtonEl =\n",
              "        document.querySelector('#' + key + ' button');\n",
              "      quickchartButtonEl.disabled = true;  // To prevent multiple clicks.\n",
              "      quickchartButtonEl.classList.add('colab-df-spinner');\n",
              "      try {\n",
              "        const charts = await google.colab.kernel.invokeFunction(\n",
              "            'suggestCharts', [key], {});\n",
              "      } catch (error) {\n",
              "        console.error('Error during call to suggestCharts:', error);\n",
              "      }\n",
              "      quickchartButtonEl.classList.remove('colab-df-spinner');\n",
              "      quickchartButtonEl.classList.add('colab-df-quickchart-complete');\n",
              "    }\n",
              "    (() => {\n",
              "      let quickchartButtonEl =\n",
              "        document.querySelector('#df-ca65e7b4-cfce-4921-b946-dbf73b419cdc button');\n",
              "      quickchartButtonEl.style.display =\n",
              "        google.colab.kernel.accessAllowed ? 'block' : 'none';\n",
              "    })();\n",
              "  </script>\n",
              "</div>\n",
              "    </div>\n",
              "  </div>\n"
            ],
            "application/vnd.google.colaboratory.intrinsic+json": {
              "type": "dataframe",
              "variable_name": "df",
              "summary": "{\n  \"name\": \"df\",\n  \"rows\": 3,\n  \"fields\": [\n    {\n      \"column\": \"client_id\",\n      \"properties\": {\n        \"dtype\": \"category\",\n        \"num_unique_values\": 1,\n        \"samples\": [\n          \"yr3sFJNQex\"\n        ],\n        \"semantic_type\": \"\",\n        \"description\": \"\"\n      }\n    },\n    {\n      \"column\": \"segment\",\n      \"properties\": {\n        \"dtype\": \"category\",\n        \"num_unique_values\": 1,\n        \"samples\": [\n          \"\\u041c\\u0430\\u0441\\u0441\\u043e\\u0432\\u044b\\u0439\"\n        ],\n        \"semantic_type\": \"\",\n        \"description\": \"\"\n      }\n    },\n    {\n      \"column\": \"period\",\n      \"properties\": {\n        \"dtype\": \"string\",\n        \"num_unique_values\": 2,\n        \"samples\": [\n          \"p_2\"\n        ],\n        \"semantic_type\": \"\",\n        \"description\": \"\"\n      }\n    },\n    {\n      \"column\": \"product\",\n      \"properties\": {\n        \"dtype\": \"string\",\n        \"num_unique_values\": 2,\n        \"samples\": [\n          \"\\u0414\\u0435\\u043f\\u043e\\u0437\\u0438\\u0442\"\n        ],\n        \"semantic_type\": \"\",\n        \"description\": \"\"\n      }\n    },\n    {\n      \"column\": \"pl\",\n      \"properties\": {\n        \"dtype\": \"number\",\n        \"std\": 14.924505015606572,\n        \"min\": 6.551622292847425,\n        \"max\": 36.03898830160944,\n        \"num_unique_values\": 3,\n        \"samples\": [\n          6.551622292847425\n        ],\n        \"semantic_type\": \"\",\n        \"description\": \"\"\n      }\n    }\n  ]\n}"
            }
          },
          "metadata": {},
          "execution_count": 27
        }
      ],
      "source": [
        "query = 'SELECT * FROM pl where client_id = \"yr3sFJNQex\"'\n",
        "con = sql.connect('database.db')\n",
        "df = pd.read_sql_query(sql = query, con=con)\n",
        "con.close()\n",
        "\n",
        "df"
      ]
    },
    {
      "cell_type": "markdown",
      "metadata": {
        "id": "9wn1_xO63dNN"
      },
      "source": [
        "   В базе данных хранится 2 таблицы: pl и campaign. Ключами для связи этих таблиц является поле client_id. В таблице pl находится информация о ЧОД (чистый операционный доход) от клиента с продуктом в разрезе периодов. В таблице campaign хранятся данные о прошедшей  между отчетными периодами \"p_1\" и \"p_2\" маркетинговой кампании.<br>\n",
        "Атрибутный состав таблицы pl:\n",
        "   - client_id - id клиента\n",
        "   - segment - сегмент клиента внутри СМБ(Средний и малый бизнес)\n",
        "   - period - период расчета ЧОД банка от продукта, используемого клиентом\n",
        "   - product - продукт\n",
        "   - pl - ЧОД в тысячах рублей\n",
        "   \n",
        "Пример: строка 0 на срезе выше - в периоде \"p_1\" за продукт \"Кредит\" с клиента \"yxwtZv530y\" массового сегмента банк заработал 0.374924 тыс. рублей.\n",
        "   \n",
        "Если в каком-либо периоде информация о клиенте/продукте у клиента отсутствует, значит в этот период клиента в банке не было/клиент продуктом не пользовался.\n",
        "\n",
        "Атрибутный состав таблицы campaign:\n",
        "- client_id - id клиента\n",
        "- product - продукт кампании\n",
        "- response - статус отклика на предложение\n",
        "- manager_id - id менеджера, на которого назначен клиент"
      ]
    },
    {
      "cell_type": "markdown",
      "metadata": {
        "id": "cRk7pcwl3dNO"
      },
      "source": [
        "### Задание\n",
        "\n",
        "1) Посчитать средний ЧОД по продуктам и количество клиентов с продуктом для каждого сегмента в разрезе периодов.<br>\n",
        "2) Посчитать средний ЧОД и количество клиентов в каждом сегменте в разрезе периодов.<br>\n",
        "3) Оценить отток клиентов с продуктов в периоде p_2.<br>\n",
        "4) Посчитать сумму ЧОД, привлеченную каждым менеджером в ходе маркетинговой кампании<br>\n",
        "5) Оценить эффективность маркетинговой кампании."
      ]
    },
    {
      "cell_type": "markdown",
      "source": [
        "### Задание 1. Посчитать средний ЧОД по продуктам и количество клиентов с продуктом для каждого сегмента в разрезе периодов.<br>"
      ],
      "metadata": {
        "id": "faEazr646KKC"
      }
    },
    {
      "cell_type": "code",
      "source": [
        "con = sql.connect('database.db')\n",
        "query = '''\n",
        "SELECT pl.segment, pl.period, pl.product, round(AVG(pl.pl), 1) AS avg_pl, COUNT(DISTINCT pl.client_id) AS client_count\n",
        "FROM pl\n",
        "LEFT JOIN campaign ON pl.client_id = campaign.client_id\n",
        "GROUP BY pl.segment, pl.period, pl.product\n",
        "ORDER BY pl.segment, pl.period, pl.product;\n",
        "'''\n",
        "\n",
        "# Выполнение запроса и сохранение результатов в DataFrame\n",
        "result = pd.read_sql_query(query, con)\n",
        "\n",
        "# Вывод результата\n",
        "print(result)\n",
        "\n",
        "# Закрытие соединения с базой данных\n",
        "con.close()"
      ],
      "metadata": {
        "colab": {
          "base_uri": "https://localhost:8080/"
        },
        "id": "DcqyvZsy6NGz",
        "outputId": "9ad0fbb1-7ca6-433c-81ac-90b27a1aa550"
      },
      "execution_count": 8,
      "outputs": [
        {
          "output_type": "stream",
          "name": "stdout",
          "text": [
            "        segment period           product  avg_pl  client_count\n",
            "0       Верхний    p_1  Банковская карта    60.6            49\n",
            "1       Верхний    p_1           Депозит   112.5           254\n",
            "2       Верхний    p_1            Кредит   236.9           360\n",
            "3       Верхний    p_1               РКО    22.8          1149\n",
            "4       Верхний    p_1         Эквайринг    80.5           183\n",
            "5       Верхний    p_2  Банковская карта    51.8           167\n",
            "6       Верхний    p_2           Депозит    99.3           283\n",
            "7       Верхний    p_2            Кредит   248.2           548\n",
            "8       Верхний    p_2               РКО    22.1          1162\n",
            "9       Верхний    p_2         Эквайринг    73.0           284\n",
            "10     Массовый    p_1  Банковская карта    13.3           895\n",
            "11     Массовый    p_1           Депозит    28.7          3537\n",
            "12     Массовый    p_1            Кредит    59.2          5247\n",
            "13     Массовый    p_1               РКО     5.8         16728\n",
            "14     Массовый    p_1         Эквайринг    19.6          2625\n",
            "15     Массовый    p_2  Банковская карта    11.7          2636\n",
            "16     Массовый    p_2           Депозит    25.2          4345\n",
            "17     Массовый    p_2            Кредит    67.1          7845\n",
            "18     Массовый    p_2               РКО     5.6         16700\n",
            "19     Массовый    p_2         Эквайринг    17.3          4424\n",
            "20  Стандартный    p_1  Банковская карта    26.4           338\n",
            "21  Стандартный    p_1           Депозит    61.0          1292\n",
            "22  Стандартный    p_1            Кредит   120.1          1871\n",
            "23  Стандартный    p_1               РКО    11.4          5907\n",
            "24  Стандартный    p_1         Эквайринг    39.3           962\n",
            "25  Стандартный    p_2  Банковская карта    22.4           917\n",
            "26  Стандартный    p_2           Депозит    49.3          1570\n",
            "27  Стандартный    p_2            Кредит   131.6          2871\n",
            "28  Стандартный    p_2               РКО    11.0          5870\n",
            "29  Стандартный    p_2         Эквайринг    35.0          1590\n"
          ]
        }
      ]
    },
    {
      "cell_type": "code",
      "source": [
        "con = sql.connect('database.db')\n",
        "\n",
        "# Запрос для получения данных из таблицы pl\n",
        "query_pl = \"SELECT * FROM pl\"\n",
        "df_pl = pd.read_sql_query(query_pl, con)\n",
        "\n",
        "# Запрос для получения данных из таблицы campaign\n",
        "# query_campaign = \"SELECT * FROM campaign\"\n",
        "# df_campaign = pd.read_sql_query(query_campaign, con)\n",
        "\n",
        "# Расчет среднего ЧОД по продуктам и количество клиентов с продуктом для каждого сегмента в разрезе периодов\n",
        "result = df_pl.groupby(['segment', 'period', 'product']).agg({'pl': 'mean', 'client_id': 'nunique'}).reset_index()\n",
        "result.pl = round(result.pl, 1)\n",
        "# Вывод результата\n",
        "print(result)\n",
        "con.close()"
      ],
      "metadata": {
        "colab": {
          "base_uri": "https://localhost:8080/"
        },
        "id": "TMYqEaub76PW",
        "outputId": "2c7848df-f8cb-48b1-8856-878765b176c7"
      },
      "execution_count": 6,
      "outputs": [
        {
          "output_type": "stream",
          "name": "stdout",
          "text": [
            "        segment period           product     pl  client_id\n",
            "0       Верхний    p_1  Банковская карта   60.6         49\n",
            "1       Верхний    p_1           Депозит  112.5        254\n",
            "2       Верхний    p_1            Кредит  236.9        360\n",
            "3       Верхний    p_1               РКО   22.8       1149\n",
            "4       Верхний    p_1         Эквайринг   80.5        183\n",
            "5       Верхний    p_2  Банковская карта   51.8        167\n",
            "6       Верхний    p_2           Депозит   99.3        283\n",
            "7       Верхний    p_2            Кредит  248.2        548\n",
            "8       Верхний    p_2               РКО   22.1       1162\n",
            "9       Верхний    p_2         Эквайринг   73.0        284\n",
            "10     Массовый    p_1  Банковская карта   13.3        895\n",
            "11     Массовый    p_1           Депозит   28.7       3537\n",
            "12     Массовый    p_1            Кредит   59.2       5247\n",
            "13     Массовый    p_1               РКО    5.8      16728\n",
            "14     Массовый    p_1         Эквайринг   19.6       2625\n",
            "15     Массовый    p_2  Банковская карта   11.7       2636\n",
            "16     Массовый    p_2           Депозит   25.2       4345\n",
            "17     Массовый    p_2            Кредит   67.1       7845\n",
            "18     Массовый    p_2               РКО    5.6      16700\n",
            "19     Массовый    p_2         Эквайринг   17.3       4424\n",
            "20  Стандартный    p_1  Банковская карта   26.4        338\n",
            "21  Стандартный    p_1           Депозит   61.0       1292\n",
            "22  Стандартный    p_1            Кредит  120.1       1871\n",
            "23  Стандартный    p_1               РКО   11.4       5907\n",
            "24  Стандартный    p_1         Эквайринг   39.3        962\n",
            "25  Стандартный    p_2  Банковская карта   22.4        917\n",
            "26  Стандартный    p_2           Депозит   49.3       1570\n",
            "27  Стандартный    p_2            Кредит  131.6       2871\n",
            "28  Стандартный    p_2               РКО   11.0       5870\n",
            "29  Стандартный    p_2         Эквайринг   35.0       1590\n"
          ]
        }
      ]
    },
    {
      "cell_type": "markdown",
      "source": [
        "### Задание 2. Посчитать средний ЧОД и количество клиентов в каждом сегменте в разрезе периодов.<br>"
      ],
      "metadata": {
        "id": "IveGD8n7TnM1"
      }
    },
    {
      "cell_type": "code",
      "source": [
        "con = sql.connect('database.db')\n",
        "\n",
        "query = \"\"\"\n",
        "SELECT\n",
        "    pl.segment,\n",
        "    pl.period,\n",
        "    round(AVG(pl.pl), 1) AS avg_pl,\n",
        "    COUNT(DISTINCT pl.client_id) AS client_count\n",
        "FROM pl\n",
        "LEFT JOIN campaign ON pl.client_id = campaign.client_id\n",
        "GROUP BY pl.segment, pl.period\n",
        "ORDER BY pl.segment, pl.period;\n",
        "\"\"\"\n",
        "\n",
        "# Выполнение запроса и сохранение результатов в DataFrame\n",
        "result = pd.read_sql_query(query, con)\n",
        "\n",
        "# Вывод результата\n",
        "print(result)\n",
        "\n",
        "# Закрытие соединения с базой данных\n",
        "con.close()"
      ],
      "metadata": {
        "colab": {
          "base_uri": "https://localhost:8080/"
        },
        "id": "Ix1Lu6K3ToPe",
        "outputId": "6ab54e48-0715-4495-bf3d-c352208d4bde"
      },
      "execution_count": 28,
      "outputs": [
        {
          "output_type": "stream",
          "name": "stdout",
          "text": [
            "       segment period  avg_pl  client_count\n",
            "0      Верхний    p_1    79.1          1195\n",
            "1      Верхний    p_2    89.7          1206\n",
            "2     Массовый    p_1    19.7         17207\n",
            "3     Массовый    p_2    23.3         17330\n",
            "4  Стандартный    p_1    40.3          6061\n",
            "5  Стандартный    p_2    46.5          6110\n"
          ]
        }
      ]
    },
    {
      "cell_type": "code",
      "source": [],
      "metadata": {
        "id": "IDqB_-1xVRih"
      },
      "execution_count": null,
      "outputs": []
    },
    {
      "cell_type": "markdown",
      "source": [
        "### Задание 3. Оценить отток клиентов с продуктов в периоде p_2.<br>"
      ],
      "metadata": {
        "id": "Zs9Yiedofo0W"
      }
    },
    {
      "cell_type": "code",
      "source": [
        "con = sql.connect('database.db')\n",
        "\n",
        "# SQL запрос для получения информации о количестве уникальных клиентов по продуктам в периодах \"p_1\" и \"p_2\"\n",
        "query = \"\"\"\n",
        "SELECT\n",
        "    pl.product,\n",
        "    COUNT(DISTINCT CASE WHEN pl.period = 'p_1' THEN pl.client_id END) AS p1_clients,\n",
        "    COUNT(DISTINCT CASE WHEN pl.period = 'p_2' THEN pl.client_id END) AS p2_clients,\n",
        "    COUNT(DISTINCT CASE WHEN pl.period = 'p_2' THEN pl.client_id END) - COUNT(DISTINCT CASE WHEN pl.period = 'p_1' THEN pl.client_id END) AS client_diff\n",
        "FROM pl\n",
        "GROUP BY pl.product\n",
        "\"\"\"\n",
        "\n",
        "# Выполнение запроса и сохранение результатов в DataFrame\n",
        "result = pd.read_sql_query(query, con)\n",
        "result[\"client_diff_percent\"] = round(result.client_diff/result.p1_clients*100, 2)\n",
        "# Вывод результата\n",
        "print(result)\n",
        "\n",
        "# Закрытие соединения с базой данных\n",
        "con.close()"
      ],
      "metadata": {
        "colab": {
          "base_uri": "https://localhost:8080/"
        },
        "id": "Tz-lKs5SfKUV",
        "outputId": "25078b62-c4a5-4775-a9dc-b51548a8ba94"
      },
      "execution_count": 41,
      "outputs": [
        {
          "output_type": "stream",
          "name": "stdout",
          "text": [
            "            product  p1_clients  p2_clients  client_diff  client_diff_percent\n",
            "0  Банковская карта        1282        3720         2438               190.17\n",
            "1           Депозит        5083        6198         1115                21.94\n",
            "2            Кредит        7478       11264         3786                50.63\n",
            "3               РКО       23784       23732          -52                -0.22\n",
            "4         Эквайринг        3770        6298         2528                67.06\n"
          ]
        }
      ]
    },
    {
      "cell_type": "code",
      "source": [],
      "metadata": {
        "id": "yPSNIbuxfOuC"
      },
      "execution_count": null,
      "outputs": []
    }
  ],
  "metadata": {
    "kernelspec": {
      "display_name": "Python 3 (ipykernel)",
      "language": "python",
      "name": "python3"
    },
    "language_info": {
      "codemirror_mode": {
        "name": "ipython",
        "version": 3
      },
      "file_extension": ".py",
      "mimetype": "text/x-python",
      "name": "python",
      "nbconvert_exporter": "python",
      "pygments_lexer": "ipython3",
      "version": "3.11.4"
    },
    "colab": {
      "provenance": []
    }
  },
  "nbformat": 4,
  "nbformat_minor": 0
}